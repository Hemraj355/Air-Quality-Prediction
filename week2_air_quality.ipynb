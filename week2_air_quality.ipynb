{
  "nbformat": 4,
  "nbformat_minor": 0,
  "metadata": {
    "colab": {
      "provenance": []
    },
    "kernelspec": {
      "name": "python3",
      "display_name": "Python 3"
    },
    "language_info": {
      "name": "python"
    }
  },
  "cells": [
    {
      "cell_type": "code",
      "execution_count": 2,
      "metadata": {
        "colab": {
          "base_uri": "https://localhost:8080/"
        },
        "id": "Z4z8f3hGCwuR",
        "outputId": "94619c88-cdba-415b-ae14-0f579cb0c516"
      },
      "outputs": [
        {
          "output_type": "stream",
          "name": "stdout",
          "text": [
            "✅ Preprocessing Done!\n",
            "\n",
            "First 5 rows after preprocessing:\n",
            "     City       Date   PM2.5   PM10     NO    NO2    NOx    NH3     CO    SO2  \\\n",
            "28     0 2015-01-29   83.13  95.68   6.93  28.71  33.72  15.85   6.93  49.52   \n",
            "29     0 2015-01-30   79.84  95.68  13.85  28.68  41.08  15.85  13.85  48.49   \n",
            "30     0 2015-01-31   94.52  95.68  24.39  32.66  52.61  15.85  24.39  67.39   \n",
            "31     0 2015-02-01  135.99  95.68  43.48  42.08  84.57  15.85  43.48  75.23   \n",
            "32     0 2015-02-02  178.33  95.68  54.56  35.31  72.80  15.85  54.56  55.04   \n",
            "\n",
            "        O3  Benzene  Toluene    AQI  AQI_Bucket  \n",
            "28   59.76     0.02     0.00  209.0           2  \n",
            "29   97.07     0.04     0.00  328.0           5  \n",
            "30  111.33     0.24     0.01  514.0           4  \n",
            "31  102.70     0.40     0.04  782.0           4  \n",
            "32  107.38     0.46     0.06  914.0           4  \n"
          ]
        }
      ],
      "source": [
        "# Week 2 - Step 1: Data Preprocessing\n",
        "\n",
        "import pandas as pd\n",
        "from sklearn.preprocessing import LabelEncoder\n",
        "\n",
        "# Load dataset\n",
        "df = pd.read_csv(\"city_day.csv\")\n",
        "\n",
        "# 1. Drop column with too many missing values\n",
        "df = df.drop(columns=[\"Xylene\"])\n",
        "\n",
        "# 2. Fill missing values with median (for numeric columns)\n",
        "df = df.fillna(df.median(numeric_only=True))\n",
        "\n",
        "# 3. Convert Date column to datetime format\n",
        "df[\"Date\"] = pd.to_datetime(df[\"Date\"])\n",
        "\n",
        "# 4. Drop rows where AQI_Bucket is missing\n",
        "df = df.dropna(subset=[\"AQI_Bucket\"])\n",
        "\n",
        "# 5. Encode City (convert names → numbers)\n",
        "le_city = LabelEncoder()\n",
        "df[\"City\"] = le_city.fit_transform(df[\"City\"])\n",
        "\n",
        "# 6. Encode AQI_Bucket (Target variable)\n",
        "le_bucket = LabelEncoder()\n",
        "df[\"AQI_Bucket\"] = le_bucket.fit_transform(df[\"AQI_Bucket\"])\n",
        "\n",
        "print(\"✅ Preprocessing Done!\")\n",
        "print(\"\\nFirst 5 rows after preprocessing:\\n\", df.head())\n"
      ]
    },
    {
      "cell_type": "code",
      "source": [
        "# Step 2 - Feature Selection\n",
        "\n",
        "# Features (independent variables)\n",
        "X = df.drop(columns=[\"AQI_Bucket\", \"Date\"])\n",
        "\n",
        "# Target (dependent variable)\n",
        "y = df[\"AQI_Bucket\"]\n",
        "\n",
        "print(\"✅ Feature Selection Done!\")\n",
        "print(\"Features Shape:\", X.shape)\n",
        "print(\"Target Shape:\", y.shape)\n"
      ],
      "metadata": {
        "colab": {
          "base_uri": "https://localhost:8080/"
        },
        "id": "tm39Ua0BEA_3",
        "outputId": "847f6419-d9e4-45aa-c6f7-970c410d699f"
      },
      "execution_count": 4,
      "outputs": [
        {
          "output_type": "stream",
          "name": "stdout",
          "text": [
            "✅ Feature Selection Done!\n",
            "Features Shape: (24850, 13)\n",
            "Target Shape: (24850,)\n"
          ]
        }
      ]
    },
    {
      "cell_type": "code",
      "source": [
        "# Step 3 - Train-Test Split\n",
        "from sklearn.model_selection import train_test_split\n",
        "\n",
        "X_train, X_test, y_train, y_test = train_test_split(\n",
        "    X, y, test_size=0.2, random_state=42, stratify=y\n",
        ")\n",
        "\n",
        "print(\"✅ Train-Test Split Done!\")\n",
        "print(\"Training set shape:\", X_train.shape)\n",
        "print(\"Testing set shape:\", X_test.shape)\n"
      ],
      "metadata": {
        "colab": {
          "base_uri": "https://localhost:8080/"
        },
        "id": "Isfnu3n6EQqI",
        "outputId": "231b9630-01ae-425e-9e90-95b6392bc8bb"
      },
      "execution_count": 5,
      "outputs": [
        {
          "output_type": "stream",
          "name": "stdout",
          "text": [
            "✅ Train-Test Split Done!\n",
            "Training set shape: (19880, 13)\n",
            "Testing set shape: (4970, 13)\n"
          ]
        }
      ]
    },
    {
      "cell_type": "code",
      "source": [
        "# Step 4 - Train & Test ML Models\n",
        "from sklearn.linear_model import LogisticRegression\n",
        "from sklearn.tree import DecisionTreeClassifier\n",
        "from sklearn.ensemble import RandomForestClassifier\n",
        "from sklearn.svm import SVC\n",
        "from sklearn.metrics import classification_report, accuracy_score\n",
        "\n",
        "models = {\n",
        "    \"Logistic Regression\": LogisticRegression(max_iter=500),\n",
        "    \"Decision Tree\": DecisionTreeClassifier(),\n",
        "    \"Random Forest\": RandomForestClassifier(),\n",
        "    \"SVM\": SVC()\n",
        "}\n",
        "\n",
        "results = {}\n",
        "\n",
        "for name, model in models.items():\n",
        "    print(f\"\\n----- {name} -----\")\n",
        "    model.fit(X_train, y_train)  # Training\n",
        "    preds = model.predict(X_test)  # Testing\n",
        "    acc = accuracy_score(y_test, preds)\n",
        "    results[name] = acc\n",
        "    print(f\"Accuracy: {acc:.2f}\")\n",
        "    print(\"Classification Report:\\n\", classification_report(y_test, preds))\n"
      ],
      "metadata": {
        "colab": {
          "base_uri": "https://localhost:8080/"
        },
        "id": "3x9jcOzxEhpZ",
        "outputId": "4d73d372-9866-4344-ea89-0f4175af8c29"
      },
      "execution_count": 6,
      "outputs": [
        {
          "output_type": "stream",
          "name": "stdout",
          "text": [
            "\n",
            "----- Logistic Regression -----\n"
          ]
        },
        {
          "output_type": "stream",
          "name": "stderr",
          "text": [
            "/usr/local/lib/python3.12/dist-packages/sklearn/linear_model/_logistic.py:465: ConvergenceWarning: lbfgs failed to converge (status=1):\n",
            "STOP: TOTAL NO. OF ITERATIONS REACHED LIMIT.\n",
            "\n",
            "Increase the number of iterations (max_iter) or scale the data as shown in:\n",
            "    https://scikit-learn.org/stable/modules/preprocessing.html\n",
            "Please also refer to the documentation for alternative solver options:\n",
            "    https://scikit-learn.org/stable/modules/linear_model.html#logistic-regression\n",
            "  n_iter_i = _check_optimize_result(\n"
          ]
        },
        {
          "output_type": "stream",
          "name": "stdout",
          "text": [
            "Accuracy: 0.72\n",
            "Classification Report:\n",
            "               precision    recall  f1-score   support\n",
            "\n",
            "           0       0.42      0.07      0.12       268\n",
            "           1       0.78      0.81      0.79      1766\n",
            "           2       0.47      0.38      0.42       556\n",
            "           3       0.78      0.87      0.82      1645\n",
            "           4       0.58      0.66      0.62       268\n",
            "           5       0.58      0.61      0.60       467\n",
            "\n",
            "    accuracy                           0.72      4970\n",
            "   macro avg       0.60      0.57      0.56      4970\n",
            "weighted avg       0.70      0.72      0.70      4970\n",
            "\n",
            "\n",
            "----- Decision Tree -----\n",
            "Accuracy: 1.00\n",
            "Classification Report:\n",
            "               precision    recall  f1-score   support\n",
            "\n",
            "           0       1.00      1.00      1.00       268\n",
            "           1       1.00      1.00      1.00      1766\n",
            "           2       1.00      1.00      1.00       556\n",
            "           3       1.00      1.00      1.00      1645\n",
            "           4       1.00      1.00      1.00       268\n",
            "           5       1.00      1.00      1.00       467\n",
            "\n",
            "    accuracy                           1.00      4970\n",
            "   macro avg       1.00      1.00      1.00      4970\n",
            "weighted avg       1.00      1.00      1.00      4970\n",
            "\n",
            "\n",
            "----- Random Forest -----\n",
            "Accuracy: 1.00\n",
            "Classification Report:\n",
            "               precision    recall  f1-score   support\n",
            "\n",
            "           0       1.00      1.00      1.00       268\n",
            "           1       1.00      1.00      1.00      1766\n",
            "           2       1.00      1.00      1.00       556\n",
            "           3       1.00      1.00      1.00      1645\n",
            "           4       1.00      1.00      1.00       268\n",
            "           5       1.00      1.00      1.00       467\n",
            "\n",
            "    accuracy                           1.00      4970\n",
            "   macro avg       1.00      1.00      1.00      4970\n",
            "weighted avg       1.00      1.00      1.00      4970\n",
            "\n",
            "\n",
            "----- SVM -----\n",
            "Accuracy: 0.98\n",
            "Classification Report:\n",
            "               precision    recall  f1-score   support\n",
            "\n",
            "           0       0.99      0.90      0.94       268\n",
            "           1       0.98      1.00      0.99      1766\n",
            "           2       1.00      0.96      0.98       556\n",
            "           3       0.98      0.99      0.98      1645\n",
            "           4       1.00      0.97      0.99       268\n",
            "           5       0.96      1.00      0.98       467\n",
            "\n",
            "    accuracy                           0.98      4970\n",
            "   macro avg       0.99      0.97      0.98      4970\n",
            "weighted avg       0.98      0.98      0.98      4970\n",
            "\n"
          ]
        }
      ]
    },
    {
      "cell_type": "code",
      "source": [
        "# Step 5 - Compare Model Accuracies\n",
        "import matplotlib.pyplot as plt\n",
        "import seaborn as sns\n",
        "\n",
        "plt.figure(figsize=(8,5))\n",
        "sns.barplot(x=list(results.keys()), y=list(results.values()), palette=\"viridis\")\n",
        "plt.title(\"Model Comparison - Accuracy\")\n",
        "plt.ylabel(\"Accuracy\")\n",
        "plt.ylim(0,1.05)\n",
        "plt.show()\n"
      ],
      "metadata": {
        "colab": {
          "base_uri": "https://localhost:8080/",
          "height": 575
        },
        "id": "0vVs8kXRE-nR",
        "outputId": "2422c23d-1c31-40f0-9e40-fa22edea9f3f"
      },
      "execution_count": 7,
      "outputs": [
        {
          "output_type": "stream",
          "name": "stderr",
          "text": [
            "/tmp/ipython-input-2339695143.py:6: FutureWarning: \n",
            "\n",
            "Passing `palette` without assigning `hue` is deprecated and will be removed in v0.14.0. Assign the `x` variable to `hue` and set `legend=False` for the same effect.\n",
            "\n",
            "  sns.barplot(x=list(results.keys()), y=list(results.values()), palette=\"viridis\")\n"
          ]
        },
        {
          "output_type": "display_data",
          "data": {
            "text/plain": [
              "<Figure size 800x500 with 1 Axes>"
            ],
            "image/png": "[encoded data removed]"
          },
          "metadata": {}
        }
      ]
    }
  ]
}